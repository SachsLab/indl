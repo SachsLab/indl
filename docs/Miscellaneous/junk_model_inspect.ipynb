{
 "cells": [
  {
   "cell_type": "markdown",
   "metadata": {},
   "source": [
    "model.inspect causes problems when working in model namespace because import inspect breaks things."
   ]
  },
  {
   "cell_type": "code",
   "execution_count": null,
   "metadata": {},
   "outputs": [],
   "source": [
    "if False:\n",
    "    # Temporarily disable this test until I can recreate the model\n",
    "    from pathlib import Path\n",
    "    import os\n",
    "    from tensorflow.keras.models import load_model\n",
    "\n",
    "    if Path.cwd().stem == 'indl':\n",
    "        os.chdir(Path.cwd().parent)\n",
    "\n",
    "    layer_idx = 20  # [2, 6, 10, 14]\n",
    "    n_steps = 100\n",
    "    max_n_filters = 25\n",
    "\n",
    "    model_file = Path.cwd() / 'data' / 'kjm_ecog' / 'converted' / 'faces_basic' / 'mv_model_full.h5'\n",
    "    model = load_model(str(model_file))\n",
    "\n",
    "    # When processing softmax classification layer,\n",
    "    # second last dense layer should be converted from relu to linear.\n",
    "    if (layer_idx == len(model.layers) - 1) and (model.layers[-2].activation != tf.keras.activations.linear):\n",
    "        model.layers[-2].activation = tf.keras.activations.linear\n",
    "        import tempfile\n",
    "        # Save and load the model to actually apply the change.\n",
    "        tmp_path = Path(tempfile.gettempdir()) / (next(tempfile._get_candidate_names()) + '.h5')\n",
    "        try:\n",
    "            model.save(str(tmp_path))\n",
    "            model = load_model(str(tmp_path))\n",
    "        finally:\n",
    "            tmp_path.unlink()\n",
    "    model.summary()\n",
    "\n",
    "    maximizing_activations = visualize_layer(model, layer_idx, epochs=n_steps, loss_as_exclusive=True,\n",
    "                                             upsampling_steps=1, upsampling_factor=1,\n",
    "                                             filter_range=(0, max_n_filters),\n",
    "                                             output_dim=(701, model.get_input_shape_at(0)[-1]))\n",
    "\n",
    "    # Stitch timeseries together into one mega timeseries with NaN gaps.\n",
    "    stitched_data = _stitch_filters(maximizing_activations, n=2, sort_by_activation=False)\n",
    "\n",
    "    import matplotlib.pyplot as plt\n",
    "\n",
    "    # Create a colour code cycler e.g. 'C0', 'C1', etc.\n",
    "    from itertools import cycle\n",
    "    colour_codes = map('C{}'.format, cycle(range(10)))\n",
    "\n",
    "    plt.figure()\n",
    "    for chan_ix in [15, 9, 8]:\n",
    "        plt.plot(stitched_data[:, :, chan_ix], color=next(colour_codes))\n",
    "    plt.show()"
   ]
  }
 ],
 "metadata": {
  "kernelspec": {
   "display_name": "Python 3",
   "language": "python",
   "name": "python3"
  }
 },
 "nbformat": 4,
 "nbformat_minor": 2
}