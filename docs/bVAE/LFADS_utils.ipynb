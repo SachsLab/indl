{
 "cells": [
  {
   "cell_type": "markdown",
   "source": [
    "# LFADS Utilities\n",
    "\n",
    "See the src."
   ],
   "metadata": {
    "collapsed": false,
    "pycharm": {
     "name": "#%% md\n"
    }
   }
  },
  {
   "cell_type": "code",
   "execution_count": null,
   "metadata": {},
   "outputs": [],
   "source": [
    "gen_ics_prior = LearnableDiagonalGaussian(\n",
    "            batch_size=graph_batch_size,\n",
    "            z_size = [1, hps['ic_dim']],\n",
    "            name='gen_ics_prior',\n",
    "            var = hps['ic_prior_var'],\n",
    "            trainable_mean=True,\n",
    "            trainable_var=False)\n",
    "kl_cost_g0_b = KLCost_GaussianGaussian(gen_ics_posterior, gen_ics_prior).kl_cost_b\n"
   ]
  },
  {
   "cell_type": "code",
   "execution_count": 64,
   "metadata": {},
   "outputs": [
    {
     "name": "stdout",
     "output_type": "stream",
     "text": [
      "Model: \"GRUClip\"\n",
      "_________________________________________________________________\n",
      "Layer (type)                 Output Shape              Param #   \n",
      "=================================================================\n",
      "input_1 (InputLayer)         [(None, 246, 36)]         0         \n",
      "_________________________________________________________________\n",
      "bidirectional (Bidirectional (None, 256)               127488    \n",
      "=================================================================\n",
      "Total params: 127,488\n",
      "Trainable params: 127,488\n",
      "Non-trainable params: 0\n",
      "_________________________________________________________________\n",
      "tf.Tensor(\n",
      "[[-0.23070076  0.2536174   0.09853305 ... -0.08522673 -0.20194843\n",
      "   0.2024224 ]\n",
      " [-0.25721148  0.339842    0.0416486  ... -0.18940908 -0.30409572\n",
      "   0.03010286]\n",
      " [-0.23013729  0.38037577  0.09360252 ... -0.049852   -0.18864658\n",
      "   0.1707485 ]\n",
      " ...\n",
      " [-0.24810478  0.25258836  0.21201608 ... -0.10185561 -0.23760056\n",
      "   0.24850681]\n",
      " [-0.23509276  0.2597233   0.15127341 ... -0.1369887  -0.30795547\n",
      "   0.06462491]\n",
      " [-0.3083426   0.3344782   0.22309446 ... -0.20601623 -0.340707\n",
      "   0.17592245]], shape=(16, 256), dtype=float32)\n"
     ]
    }
   ],
   "source": [
    "test_GRUClipCell()\n",
    "\n"
   ]
  },
  {
   "cell_type": "code",
   "execution_count": 70,
   "metadata": {},
   "outputs": [
    {
     "name": "stdout",
     "output_type": "stream",
     "text": [
      "Model: \"GRUClip\"\n",
      "_________________________________________________________________\n",
      "Layer (type)                 Output Shape              Param #   \n",
      "=================================================================\n",
      "input_1 (InputLayer)         [(None, 246, 36)]         0         \n",
      "_________________________________________________________________\n",
      "gru_clip (GRUClip)           (None, 128)               63360     \n",
      "=================================================================\n",
      "Total params: 63,360\n",
      "Trainable params: 63,360\n",
      "Non-trainable params: 0\n",
      "_________________________________________________________________\n",
      "tf.Tensor(\n",
      "[[-0.145829   -0.0738971  -0.10125014 ... -0.3566203  -0.28160632\n",
      "   0.12751628]\n",
      " [-0.1078586  -0.03819858 -0.0784252  ... -0.30388248 -0.26838285\n",
      "   0.13112734]\n",
      " [-0.20403881 -0.04190751 -0.10297713 ... -0.1784311  -0.29298502\n",
      "   0.19574839]\n",
      " ...\n",
      " [-0.17381434 -0.02557798 -0.15238568 ... -0.38625315 -0.29328454\n",
      "   0.21715674]\n",
      " [-0.10311585 -0.09402761  0.00203776 ... -0.11177816 -0.27137804\n",
      "   0.18426083]\n",
      " [-0.26278093  0.04026812 -0.09496458 ... -0.3568564  -0.2787963\n",
      "   0.22160673]], shape=(16, 128), dtype=float32)\n"
     ]
    }
   ],
   "source": [
    "test_GRUClipLayer()\n"
   ]
  },
  {
   "cell_type": "code",
   "execution_count": 72,
   "metadata": {
    "pycharm": {
     "name": "#%%\n"
    }
   },
   "outputs": [
    {
     "name": "stdout",
     "output_type": "stream",
     "text": [
      "Model: \"GRUClipBi\"\n",
      "_________________________________________________________________\n",
      "Layer (type)                 Output Shape              Param #   \n",
      "=================================================================\n",
      "input_1 (InputLayer)         [(None, 246, 36)]         0         \n",
      "_________________________________________________________________\n",
      "bidirectional (Bidirectional (None, 256)               126720    \n",
      "=================================================================\n",
      "Total params: 126,720\n",
      "Trainable params: 126,720\n",
      "Non-trainable params: 0\n",
      "_________________________________________________________________\n",
      "tf.Tensor(\n",
      "[[ 0.05232625  0.20494887 -0.12492953 ...  0.11413126  0.25303578\n",
      "  -0.31101322]\n",
      " [ 0.03256029  0.2671073  -0.00039157 ...  0.11336662  0.3193527\n",
      "  -0.30593503]\n",
      " [ 0.01949142  0.3231842  -0.01736745 ...  0.15450042  0.17337021\n",
      "  -0.21200603]\n",
      " ...\n",
      " [-0.06974471  0.27610314 -0.08454704 ...  0.16733271  0.25611082\n",
      "  -0.2095642 ]\n",
      " [ 0.10193326  0.17880175 -0.04680509 ...  0.20970306  0.13739228\n",
      "  -0.22986582]\n",
      " [ 0.07257779  0.1905019  -0.08863862 ...  0.12622494  0.16717374\n",
      "  -0.27231687]], shape=(16, 256), dtype=float32)\n"
     ]
    }
   ],
   "source": [
    "test_GRUClipLayer_in_Bidirectional()"
   ]
  }
 ],
 "metadata": {
  "kernelspec": {
   "display_name": "Python 3",
   "language": "python",
   "name": "python3"
  },
  "language_info": {
   "codemirror_mode": {
    "name": "ipython",
    "version": 3
   },
   "file_extension": ".py",
   "mimetype": "text/x-python",
   "name": "python",
   "nbconvert_exporter": "python",
   "pygments_lexer": "ipython3",
   "version": "3.8.3"
  }
 },
 "nbformat": 4,
 "nbformat_minor": 4
}