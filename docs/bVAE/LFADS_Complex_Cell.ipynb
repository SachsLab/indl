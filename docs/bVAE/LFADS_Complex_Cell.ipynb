{
 "cells": [
  {
   "cell_type": "markdown",
   "source": [
    "# LFADS Complex Cell\n",
    "\n",
    "For explanation forthcoming. For now see the src."
   ],
   "metadata": {
    "collapsed": false,
    "pycharm": {
     "name": "#%% md\n"
    }
   }
  },
  {
   "cell_type": "code",
   "execution_count": null,
   "metadata": {
    "pycharm": {
     "name": "#%%\n"
    }
   },
   "outputs": [],
   "source": [
    "if use_ar_prior:\n",
    "    autocorrelation_taus = [hps.prior_ar_atau for _ in range(hps.co_dim)]\n",
    "    noise_variances = [hps.prior_ar_nvar for _ in range(hps.co_dim)]\n",
    "    cos_prior = LearnableAutoRegressive1Prior(graph_batch_size, hps.co_dim,\n",
    "                                              autocorrelation_taus,\n",
    "                                              noise_variances,\n",
    "                                              hps.do_train_prior_ar_atau,\n",
    "                                              hps.do_train_prior_ar_nvar,\n",
    "                                              \"u_prior_ar1\")\n",
    "    kl_cost_co_b_t = KLCost_GaussianGaussianProcessSampled(cos_posterior, cos_prior).kl_cost_b\n",
    "else:\n",
    "    cos_prior = LearnableDiagonalGaussian(batch_size=graph_batch_size,\n",
    "                                          z_size=[hps['num_steps'], hps['co_dim']],\n",
    "                                          name='cos_prior', var = hps['co_prior_var'],\n",
    "                                          trainable_mean=False, trainable_var=True)\n",
    "    # CO KL cost per timestep\n",
    "    kl_cost_co_b_t = KLCost_GaussianGaussian(self.cos_posterior,\n",
    "                                                  self.cos_prior).kl_cost_b"
   ]
  }
 ],
 "metadata": {
  "kernelspec": {
   "display_name": "Python 3",
   "language": "python",
   "name": "python3"
  },
  "language_info": {
   "codemirror_mode": {
    "name": "ipython",
    "version": 3
   },
   "file_extension": ".py",
   "mimetype": "text/x-python",
   "name": "python",
   "nbconvert_exporter": "python",
   "pygments_lexer": "ipython3",
   "version": "3.8.3"
  }
 },
 "nbformat": 4,
 "nbformat_minor": 4
}